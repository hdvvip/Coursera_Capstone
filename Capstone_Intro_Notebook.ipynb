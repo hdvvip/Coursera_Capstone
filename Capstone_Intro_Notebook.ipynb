{
    "nbformat_minor": 1, 
    "cells": [
        {
            "source": "# Capstone Project Notebook", 
            "cell_type": "markdown", 
            "metadata": {
                "collapsed": true
            }
        }, 
        {
            "source": "## Introduction", 
            "cell_type": "markdown", 
            "metadata": {}
        }, 
        {
            "source": "This report can solve 1 big problem: **Where should I open a restaurant in New York?**\n\nTo answer that question, this report also answer 2 small questions:\n<ol>\n    <li>Which borough should I open my restaurant?</li>\n    <li>What are trending restaurants in that borough?</li>\n</ol>\n\nAudience:\n<ul>\n    <li>Anyone want to open a restaurant in New York or find out the best place to open his restaurant.</li>\n    <li>Stackholders want to expand your business and finding other borough have their type of restaurant is trending restaurants.</li>\n</ul>\n\nAfter reading this report, you can gain 3 things:\n1. How restaurants in New York are distributed.\n2. Which neighbourhoods and boroughs are similiar to your current location.\n3. Where to open your next restaurant.", 
            "cell_type": "markdown", 
            "metadata": {}
        }, 
        {
            "source": "## Data", 
            "cell_type": "markdown", 
            "metadata": {}
        }, 
        {
            "source": "2 sets of Data:\n\n1. New York bouroughs and its neighborhood.\n<ol>\n    <li>This data will include 5 boroughs and 306 neighborhoods of New York.</li>\n    <li>I will use this data for showing how restaurants in New York are distributed.</li>\n    <li>This data already located as IBM server can be accesed with link: <a href=\"https://ibm.box.com/shared/static/fbpwbovar7lf8p5sgddm06cgipa2rxpe.json\">click the link</a></li>\n</ol>\n\n\n\n2. Four Square Data.\n<ol>\n    <li>I will use this data for finding restaurants of each Neighborhood.</li>\n</ol>\n\n", 
            "cell_type": "markdown", 
            "metadata": {}
        }, 
        {
            "execution_count": null, 
            "cell_type": "code", 
            "metadata": {}, 
            "outputs": [], 
            "source": ""
        }, 
        {
            "execution_count": null, 
            "cell_type": "code", 
            "metadata": {}, 
            "outputs": [], 
            "source": ""
        }, 
        {
            "execution_count": null, 
            "cell_type": "code", 
            "metadata": {}, 
            "outputs": [], 
            "source": ""
        }, 
        {
            "execution_count": null, 
            "cell_type": "code", 
            "metadata": {}, 
            "outputs": [], 
            "source": ""
        }, 
        {
            "execution_count": null, 
            "cell_type": "code", 
            "metadata": {}, 
            "outputs": [], 
            "source": ""
        }, 
        {
            "execution_count": 2, 
            "cell_type": "code", 
            "metadata": {}, 
            "outputs": [], 
            "source": "import pandas as pd\nimport numpy as np"
        }, 
        {
            "execution_count": 3, 
            "cell_type": "code", 
            "metadata": {}, 
            "outputs": [
                {
                    "output_type": "stream", 
                    "name": "stdout", 
                    "text": "Hello Capstone Project Course!\n"
                }
            ], 
            "source": "print('Hello Capstone Project Course!')"
        }, 
        {
            "execution_count": 8, 
            "cell_type": "code", 
            "metadata": {}, 
            "outputs": [], 
            "source": "# The code was removed by Watson Studio for sharing."
        }, 
        {
            "execution_count": null, 
            "cell_type": "code", 
            "metadata": {}, 
            "outputs": [], 
            "source": ""
        }
    ], 
    "metadata": {
        "kernelspec": {
            "display_name": "Python 3.5", 
            "name": "python3", 
            "language": "python"
        }, 
        "language_info": {
            "mimetype": "text/x-python", 
            "nbconvert_exporter": "python", 
            "version": "3.5.5", 
            "name": "python", 
            "file_extension": ".py", 
            "pygments_lexer": "ipython3", 
            "codemirror_mode": {
                "version": 3, 
                "name": "ipython"
            }
        }
    }, 
    "nbformat": 4
}