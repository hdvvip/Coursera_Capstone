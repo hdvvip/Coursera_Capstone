{
    "nbformat_minor": 1, 
    "cells": [
        {
            "execution_count": 17, 
            "cell_type": "code", 
            "metadata": {}, 
            "outputs": [
                {
                    "output_type": "stream", 
                    "name": "stdout", 
                    "text": "Fetching package metadata .............\nSolving package specifications: .\n\n# All requested packages already installed.\n# packages in environment at /opt/conda/envs/DSX-Python35:\n#\ngeopy                     1.18.1                     py_0    conda-forge\nFetching package metadata .............\nSolving package specifications: .\n\n# All requested packages already installed.\n# packages in environment at /opt/conda/envs/DSX-Python35:\n#\nfolium                    0.5.0                      py_0    conda-forge\nLibraries imported.\n"
                }
            ], 
            "source": "import numpy as np # library to handle data in a vectorized manner\n\nimport pandas as pd # library for data analsysis\npd.set_option('display.max_columns', None)\npd.set_option('display.max_rows', None)\n\nimport json # library to handle JSON files\n\n!conda install -c conda-forge geopy --yes # uncomment this line if you haven't completed the Foursquare API lab\nfrom geopy.geocoders import Nominatim # convert an address into latitude and longitude values\n\nimport requests # library to handle requests\nfrom pandas.io.json import json_normalize # tranform JSON file into a pandas dataframe\n\n# Matplotlib and associated plotting modules\nimport matplotlib.cm as cm\nimport matplotlib.colors as colors\n\n# import k-means from clustering stage\nfrom sklearn.cluster import KMeans\n\n!conda install -c conda-forge folium=0.5.0 --yes # uncomment this line if you haven't completed the Foursquare API lab\nimport folium # map rendering library\nfrom sklearn.cluster import KMeans\n\nprint('Libraries imported.')"
        }, 
        {
            "execution_count": 63, 
            "cell_type": "code", 
            "metadata": {}, 
            "outputs": [], 
            "source": "!wget -q -O 'newyork_data.json' https://ibm.box.com/shared/static/fbpwbovar7lf8p5sgddm06cgipa2rxpe.json\nwith open('newyork_data.json') as json_data:\n    newyork_data = json.load(json_data)"
        }, 
        {
            "execution_count": 64, 
            "cell_type": "code", 
            "metadata": {}, 
            "outputs": [], 
            "source": "neighborhoods_data = newyork_data['features']"
        }, 
        {
            "execution_count": 65, 
            "cell_type": "code", 
            "metadata": {}, 
            "outputs": [
                {
                    "execution_count": 65, 
                    "metadata": {}, 
                    "data": {
                        "text/html": "<div>\n<style scoped>\n    .dataframe tbody tr th:only-of-type {\n        vertical-align: middle;\n    }\n\n    .dataframe tbody tr th {\n        vertical-align: top;\n    }\n\n    .dataframe thead th {\n        text-align: right;\n    }\n</style>\n<table border=\"1\" class=\"dataframe\">\n  <thead>\n    <tr style=\"text-align: right;\">\n      <th></th>\n      <th>Borough</th>\n      <th>Neighborhood</th>\n      <th>Latitude</th>\n      <th>Longitude</th>\n    </tr>\n  </thead>\n  <tbody>\n  </tbody>\n</table>\n</div>", 
                        "text/plain": "Empty DataFrame\nColumns: [Borough, Neighborhood, Latitude, Longitude]\nIndex: []"
                    }, 
                    "output_type": "execute_result"
                }
            ], 
            "source": "# define the dataframe columns\ncolumn_names = ['Borough', 'Neighborhood', 'Latitude', 'Longitude'] \n\n# instantiate the dataframe\nneighborhoods = pd.DataFrame(columns=column_names)\nneighborhoods"
        }, 
        {
            "execution_count": 66, 
            "cell_type": "code", 
            "metadata": {}, 
            "outputs": [], 
            "source": "for data in neighborhoods_data:\n    borough = neighborhood_name = data['properties']['borough'] \n    neighborhood_name = data['properties']['name']\n        \n    neighborhood_latlon = data['geometry']['coordinates']\n    neighborhood_lat = neighborhood_latlon[1]\n    neighborhood_lon = neighborhood_latlon[0]\n    \n    neighborhoods = neighborhoods.append({'Borough': borough,\n                                          'Neighborhood': neighborhood_name,\n                                          'Latitude': neighborhood_lat,\n                                          'Longitude': neighborhood_lon}, ignore_index=True)"
        }, 
        {
            "execution_count": 67, 
            "cell_type": "code", 
            "metadata": {}, 
            "outputs": [], 
            "source": "ny_data = neighborhoods.copy()"
        }, 
        {
            "execution_count": 68, 
            "cell_type": "code", 
            "metadata": {}, 
            "outputs": [
                {
                    "execution_count": 68, 
                    "metadata": {}, 
                    "data": {
                        "text/html": "<div>\n<style scoped>\n    .dataframe tbody tr th:only-of-type {\n        vertical-align: middle;\n    }\n\n    .dataframe tbody tr th {\n        vertical-align: top;\n    }\n\n    .dataframe thead th {\n        text-align: right;\n    }\n</style>\n<table border=\"1\" class=\"dataframe\">\n  <thead>\n    <tr style=\"text-align: right;\">\n      <th></th>\n      <th>Borough</th>\n      <th>Neighborhood</th>\n      <th>Latitude</th>\n      <th>Longitude</th>\n    </tr>\n  </thead>\n  <tbody>\n    <tr>\n      <th>0</th>\n      <td>Bronx</td>\n      <td>Wakefield</td>\n      <td>40.894705</td>\n      <td>-73.847201</td>\n    </tr>\n    <tr>\n      <th>1</th>\n      <td>Bronx</td>\n      <td>Co-op City</td>\n      <td>40.874294</td>\n      <td>-73.829939</td>\n    </tr>\n    <tr>\n      <th>2</th>\n      <td>Bronx</td>\n      <td>Eastchester</td>\n      <td>40.887556</td>\n      <td>-73.827806</td>\n    </tr>\n    <tr>\n      <th>3</th>\n      <td>Bronx</td>\n      <td>Fieldston</td>\n      <td>40.895437</td>\n      <td>-73.905643</td>\n    </tr>\n    <tr>\n      <th>4</th>\n      <td>Bronx</td>\n      <td>Riverdale</td>\n      <td>40.890834</td>\n      <td>-73.912585</td>\n    </tr>\n  </tbody>\n</table>\n</div>", 
                        "text/plain": "  Borough Neighborhood   Latitude  Longitude\n0   Bronx    Wakefield  40.894705 -73.847201\n1   Bronx   Co-op City  40.874294 -73.829939\n2   Bronx  Eastchester  40.887556 -73.827806\n3   Bronx    Fieldston  40.895437 -73.905643\n4   Bronx    Riverdale  40.890834 -73.912585"
                    }, 
                    "output_type": "execute_result"
                }
            ], 
            "source": "ny_data.head()"
        }, 
        {
            "source": "#### Define Foursquare Credentials and Version", 
            "cell_type": "markdown", 
            "metadata": {}
        }, 
        {
            "execution_count": 110, 
            "cell_type": "code", 
            "metadata": {}, 
            "outputs": [
                {
                    "output_type": "stream", 
                    "name": "stdout", 
                    "text": "Your credentails:\nCLIENT_ID: HMIOEHHJUOKXY4UORJ45EDNSOZ1ZTN5ZLWFTQTRKWBAK5YGT\nCLIENT_SECRET:T1RUIYWWBNFDHV104RPAPJQNHN01Y10YYGYEYUPMK5M3JH4H\n"
                }
            ], 
            "source": "# The code was removed by Watson Studio for sharing."
        }, 
        {
            "execution_count": 111, 
            "cell_type": "code", 
            "metadata": {}, 
            "outputs": [], 
            "source": "def getNearbyVenues(names, latitudes, longitudes, radius=500):\n    \n    venues_list=[]\n    for name, lat, lng in zip(names, latitudes, longitudes):\n        print(name)\n            \n        # create the API request URL\n        url = 'https://api.foursquare.com/v2/venues/explore?&client_id={}&client_secret={}&v={}&ll={},{}&radius={}&limit={}'.format(\n            CLIENT_ID, \n            CLIENT_SECRET, \n            VERSION, \n            lat, \n            lng, \n            radius, \n            LIMIT)\n            \n        # make the GET request\n        results = requests.get(url).json()[\"response\"]['groups'][0]['items']\n        \n        # return only relevant information for each nearby venue\n        venues_list.append([(\n            name, \n            lat, \n            lng, \n            v['venue']['name'], \n            v['venue']['location']['lat'], \n            v['venue']['location']['lng'],  \n            v['venue']['categories'][0]['name']) for v in results])\n\n    nearby_venues = pd.DataFrame([item for venue_list in venues_list for item in venue_list])\n    nearby_venues.columns = ['Neighborhood', \n                  'Neighborhood Latitude', \n                  'Neighborhood Longitude', \n                  'Venue', \n                  'Venue Latitude', \n                  'Venue Longitude', \n                  'Venue Category']\n    \n    return(nearby_venues)"
        }, 
        {
            "execution_count": null, 
            "cell_type": "code", 
            "metadata": {}, 
            "outputs": [
                {
                    "output_type": "stream", 
                    "name": "stdout", 
                    "text": "Wakefield\nCo-op City\nEastchester\nFieldston\nRiverdale\nKingsbridge\nMarble Hill\nWoodlawn\nNorwood\nWilliamsbridge\nBaychester\nPelham Parkway\nCity Island\nBedford Park\nUniversity Heights\nMorris Heights\nFordham\nEast Tremont\nWest Farms\nHigh  Bridge\nMelrose\nMott Haven\nPort Morris\nLongwood\nHunts Point\nMorrisania\nSoundview\nClason Point\nThrogs Neck\nCountry Club\nParkchester\nWestchester Square\nVan Nest\nMorris Park\nBelmont\nSpuyten Duyvil\nNorth Riverdale\nPelham Bay\nSchuylerville\nEdgewater Park\nCastle Hill\nOlinville\nPelham Gardens\nConcourse\nUnionport\nEdenwald\nBay Ridge\nBensonhurst\nSunset Park\nGreenpoint\nGravesend\nBrighton Beach\nSheepshead Bay\nManhattan Terrace\nFlatbush\nCrown Heights\nEast Flatbush\nKensington\nWindsor Terrace\nProspect Heights\nBrownsville\nWilliamsburg\nBushwick\nBedford Stuyvesant\nBrooklyn Heights\nCobble Hill\nCarroll Gardens\nRed Hook\nGowanus\nFort Greene\nPark Slope\nCypress Hills\nEast New York\nStarrett City\nCanarsie\nFlatlands\nMill Island\nManhattan Beach\nConey Island\nBath Beach\nBorough Park\nDyker Heights\nGerritsen Beach\nMarine Park\nClinton Hill\nSea Gate\nDowntown\nBoerum Hill\nProspect Lefferts Gardens\nOcean Hill\nCity Line\nBergen Beach\nMidwood\nProspect Park South\nGeorgetown\nEast Williamsburg\nNorth Side\nSouth Side\nOcean Parkway\nFort Hamilton\nChinatown\nWashington Heights\nInwood\nHamilton Heights\nManhattanville\nCentral Harlem\nEast Harlem\nUpper East Side\nYorkville\nLenox Hill\nRoosevelt Island\nUpper West Side\nLincoln Square\nClinton\nMidtown\nMurray Hill\nChelsea\nGreenwich Village\nEast Village\nLower East Side\nTribeca\nLittle Italy\nSoho\nWest Village\nManhattan Valley\nMorningside Heights\nGramercy\nBattery Park City\nFinancial District\nAstoria\nWoodside\nJackson Heights\nElmhurst\n"
                }
            ], 
            "source": "names = ny_data['Neighborhood']\nlatitudes = ny_data['Latitude']\nlongitudes = ny_data['Longitude']\n\n# Get all venues inside each neighborhood\nny_venues = getNearbyVenues(names, latitudes, longitudes, radius=500)"
        }, 
        {
            "execution_count": null, 
            "cell_type": "code", 
            "metadata": {}, 
            "outputs": [], 
            "source": "ny_restaurant = ny_venues[ny_venues['Venue Category'].str.contains('Restaurant')] # only get restaurants venue"
        }, 
        {
            "execution_count": null, 
            "cell_type": "code", 
            "metadata": {}, 
            "outputs": [], 
            "source": "# Find out unique Venue in ny_venues\nny_unique_venues = ny_restaurant.copy() # make a copy\nny_unique_venues = ny_unique_venues.drop_duplicates('Venue') # drop duplicate venue between neighborhoods\nny_unique_venues.reset_index(inplace=True) # create a index column\nny_unique_venues.drop('index', inplace=True, axis=1)  # drop that index column\n# print(len(ny_unique_venues))\nny_unique_venues.head()"
        }, 
        {
            "execution_count": null, 
            "cell_type": "code", 
            "metadata": {}, 
            "outputs": [], 
            "source": "tem_neighborhoods = neighborhoods.copy().drop_duplicates('Neighborhood') # drop duplicate neighborhood"
        }, 
        {
            "execution_count": null, 
            "cell_type": "code", 
            "metadata": {}, 
            "outputs": [], 
            "source": "# merge tem_neighborhoods with ny_unique_venues on Neighborhood\nmy_ny = tem_neighborhoods.join(ny_unique_venues.set_index('Neighborhood'), on='Neighborhood')\n# Replace NaN value in 'Venue' by 0\nmy_ny['Venue'].replace(np.nan, 0, inplace=True) "
        }, 
        {
            "execution_count": null, 
            "cell_type": "code", 
            "metadata": {}, 
            "outputs": [], 
            "source": "# Only get rows do not have 0  in 'Venue'\nmy_ny = my_ny[my_ny['Venue'] != 0]\nfilter_columns = ['Borough', 'Neighborhood', 'Latitude', 'Longitude', 'Venue', 'Venue Latitude', 'Venue Longitude', 'Venue Category']\nmy_ny_filtered = my_ny.copy()[filter_columns]\nprint(len(my_ny))\n"
        }, 
        {
            "execution_count": null, 
            "cell_type": "code", 
            "metadata": {}, 
            "outputs": [], 
            "source": "my_ny_filtered.sort_values(by='Borough', inplace=True)\nmy_ny_filtered.reset_index(inplace=True)\nmy_ny_filtered.drop('index', inplace=True, axis=1)\nmy_ny_filtered.head()"
        }, 
        {
            "execution_count": null, 
            "cell_type": "code", 
            "metadata": {}, 
            "outputs": [], 
            "source": "def draw_res_map(borough):\n    address = borough + ', New York City, NY'\n\n    geolocator = Nominatim()\n    location = geolocator.geocode(address)\n    latitude = location.latitude\n    longitude = location.longitude\n\n    ny_head_unique_venues = my_ny_filtered.copy()[my_ny_filtered['Borough'] == borough]\n\n    # create map of New York using latitude and longitude values\n    map_newyork = folium.Map(location=[latitude, longitude], zoom_start=10,)\n\n    from folium import plugins\n    res_group = plugins.MarkerCluster().add_to(map_newyork)\n\n    # add markers to map\n    for lat, lng, venue, category in zip(ny_head_unique_venues['Venue Latitude'], ny_head_unique_venues['Venue Longitude'], ny_head_unique_venues['Venue'], ny_head_unique_venues['Venue Category']):\n        label = '{}, {}'.format(venue, category)\n        label = folium.Popup(label, parse_html=True)\n        folium.CircleMarker(\n            [lat, lng],\n            radius=1,\n            popup=label,\n            color='blue',\n            fill=True,\n            fill_color='#3186cc',\n            fill_opacity=0.7,\n            ).add_to(map_newyork)  \n\n    return map_newyork"
        }, 
        {
            "source": "### Restaurants in Bronx", 
            "cell_type": "markdown", 
            "metadata": {}
        }, 
        {
            "execution_count": null, 
            "cell_type": "code", 
            "metadata": {}, 
            "outputs": [], 
            "source": "draw_res_map('Bronx')"
        }, 
        {
            "source": "### Restaurants in Manhattan", 
            "cell_type": "markdown", 
            "metadata": {}
        }, 
        {
            "execution_count": null, 
            "cell_type": "code", 
            "metadata": {}, 
            "outputs": [], 
            "source": "draw_res_map('Manhattan')"
        }, 
        {
            "source": "### Restaurants in Brooklyn", 
            "cell_type": "markdown", 
            "metadata": {}
        }, 
        {
            "execution_count": null, 
            "cell_type": "code", 
            "metadata": {}, 
            "outputs": [], 
            "source": "draw_res_map('Brooklyn')"
        }, 
        {
            "source": "### Restaurants in Queens", 
            "cell_type": "markdown", 
            "metadata": {}
        }, 
        {
            "execution_count": null, 
            "cell_type": "code", 
            "metadata": {}, 
            "outputs": [], 
            "source": "draw_res_map('Queens')"
        }, 
        {
            "source": "### Restaurants in Staten Island", 
            "cell_type": "markdown", 
            "metadata": {}
        }, 
        {
            "execution_count": null, 
            "cell_type": "code", 
            "metadata": {}, 
            "outputs": [], 
            "source": "draw_res_map('Staten Island')"
        }, 
        {
            "source": "### Get total restaurants per borough", 
            "cell_type": "markdown", 
            "metadata": {}
        }, 
        {
            "execution_count": null, 
            "cell_type": "code", 
            "metadata": {}, 
            "outputs": [], 
            "source": "my_ny_filtered.head()"
        }, 
        {
            "execution_count": null, 
            "cell_type": "code", 
            "metadata": {}, 
            "outputs": [], 
            "source": "ny_unique_venues = my_ny_filtered.copy().groupby(['Borough'])['Venue'].count()\n"
        }, 
        {
            "execution_count": null, 
            "cell_type": "code", 
            "metadata": {}, 
            "outputs": [], 
            "source": "ny_unique_venues = pd.DataFrame(ny_unique_venues)\nny_unique_venues.reset_index(inplace=True)\nny_unique_venues.head()"
        }, 
        {
            "source": "### Find out number of people and restaurant in each borough", 
            "cell_type": "markdown", 
            "metadata": {}
        }, 
        {
            "execution_count": null, 
            "cell_type": "code", 
            "metadata": {}, 
            "outputs": [], 
            "source": "ny_bar = ny_unique_venues.copy()"
        }, 
        {
            "execution_count": null, 
            "cell_type": "code", 
            "metadata": {}, 
            "outputs": [], 
            "source": "# Input population data and square/km \nny_bar['Population'] = ['1,471,160','2,648,771','1,664,727','2,358,582','479,458']\nny_bar.columns = ['Borough', 'Num_of_restaurant','Population']\n\nny_bar.set_index('Borough', inplace=True)\nny_bar.index.name = None\nny_bar"
        }, 
        {
            "execution_count": null, 
            "cell_type": "code", 
            "metadata": {}, 
            "outputs": [], 
            "source": "# Get percentage of each column to normalize data\nny_bar['Num_of_restaurant'] = round(ny_bar['Num_of_restaurant'].astype(float) / sum(ny_bar['Num_of_restaurant'].astype(float)) * 100, 2)\nny_bar['Population'] = round(ny_bar['Population'].str.replace(',','').astype(float) / sum(ny_bar['Population'].str.replace(',','').astype(float)) * 100, 2)\nny_bar.columns = ['% of total population', '% of total restaurants']\nny_bar"
        }, 
        {
            "source": "### Map show distribution of people and restaurant in New York City", 
            "cell_type": "markdown", 
            "metadata": {}
        }, 
        {
            "execution_count": null, 
            "cell_type": "code", 
            "metadata": {}, 
            "outputs": [], 
            "source": "%matplotlib inline\n\nimport matplotlib as mpl\nimport matplotlib.pyplot as plt\n\ncolors = ['#5cb85c', '#5bc0de', '#d9534f']\n\nax = ny_bar.plot(kind='bar',\n                figsize = (20,8),\n                color = colors,\n                edgecolor = None)\n\nax.set_title(\"Percentage of Total Population and Rrestaurants in New York City\", fontsize=16)\nplt.legend(labels=ny_bar.columns,fontsize= 14)\nplt.xticks(fontsize=14)\n\nfor index, spine in enumerate(plt.gca().spines.values()):\n    if(index != 2):\n        spine.set_visible(False)\n\nplt.yticks([]) # IGNORE PERCENTAGE Y-AXIS\n\nfor p in ax.patches:\n    width, height = p.get_width(), p.get_height()\n#     x, y = p.get_xy() \n    ax.annotate('{}'.format(str(height) + '%'), (p.get_x()+.15*width, p.get_y() + height + 0.5))"
        }, 
        {
            "source": "### You should consider Brooklyn and Queens boroughs to open next restaurants. Because those boroughs have higher popluation than distribution of restaurants. Especially, Brooklyn and Queens held by themselves more than 50% of population in New York\n\n### Hence, it is a good idea to open restaurants in Brooklyn and Queens.", 
            "cell_type": "markdown", 
            "metadata": {}
        }, 
        {
            "source": "## Part Two: Cluster of Neighborhoods", 
            "cell_type": "markdown", 
            "metadata": {}
        }, 
        {
            "source": "In this part, we will find out top trending restaurants in each neighborhood, and base on that result, we will find out cluster of neighborhoods of New York City.\n\nYou can find out the neighborhoods smiliar to your neighborhood, so you can open the next restaurants in those neighborhoods.", 
            "cell_type": "markdown", 
            "metadata": {}
        }, 
        {
            "source": "### Prepare for K_Means clustering by getting dummies of all Venue Category\n", 
            "cell_type": "markdown", 
            "metadata": {}
        }, 
        {
            "execution_count": null, 
            "cell_type": "code", 
            "metadata": {}, 
            "outputs": [], 
            "source": "my_ny_filtered.head()"
        }, 
        {
            "execution_count": null, 
            "cell_type": "code", 
            "metadata": {}, 
            "outputs": [], 
            "source": "ny_onehot = pd.get_dummies(my_ny_filtered[['Venue Category']], prefix=\"\", prefix_sep=\"\")\nny_onehot['Neighborhood'] = my_ny_filtered['Neighborhood']"
        }, 
        {
            "execution_count": null, 
            "cell_type": "code", 
            "metadata": {}, 
            "outputs": [], 
            "source": "fixed_columns = [ny_onehot.columns[-1]] + list(ny_onehot.columns[:-1])\nny_onehot = ny_onehot[fixed_columns]\nny_onehot.head()"
        }, 
        {
            "execution_count": null, 
            "cell_type": "code", 
            "metadata": {}, 
            "outputs": [], 
            "source": "ny_grouped = ny_onehot.groupby('Neighborhood').mean().reset_index()\nny_grouped.head()"
        }, 
        {
            "source": "### Get top 10 restaurants in each Neighbourhood", 
            "cell_type": "markdown", 
            "metadata": {}
        }, 
        {
            "execution_count": null, 
            "cell_type": "code", 
            "metadata": {}, 
            "outputs": [], 
            "source": "def return_most_common_venues(row, num_top_venues):\n    row_categories = row.iloc[1:]\n    row_categories_sorted = row_categories.sort_values(ascending=False)\n    templist = row_categories_sorted\n    # Ignore zero values, only get nonzero values\n    # Sort a Series in panda python. type(templist) == Serie (True)\n    templist = templist[templist>0].index.values\n    \n    for i in range(num_top_venues-len(templist)):\n        # append '' to blank spaces instead of zeroes\n        templist = np.append(templist, '')\n    \n    return templist[0:num_top_venues]"
        }, 
        {
            "execution_count": null, 
            "cell_type": "code", 
            "metadata": {}, 
            "outputs": [], 
            "source": "num_top_res = 10\n\nindicators = ['st', 'nd', 'rd']\n\n# create columns according to number of top restaurants\ncolumns = ['Neighborhood']\nfor ind in np.arange(num_top_res):\n    try:\n        columns.append('{}{} Most Common Restaurant'.format(ind+1, indicators[ind]))\n    except:\n        columns.append('{}th Most Common Restaurant'.format(ind+1))\n\n# create a new dataframe\nneighborhoods_res_sorted = pd.DataFrame(columns=columns)\nneighborhoods_res_sorted['Neighborhood'] = ny_grouped['Neighborhood']\n\nfor ind in np.arange(ny_grouped.shape[0]):\n    neighborhoods_res_sorted.iloc[ind, 1:] = return_most_common_venues(ny_grouped.iloc[ind, :], num_top_res)\n\nneighborhoods_res_sorted.head()"
        }, 
        {
            "source": "### Check result for neighborhood: Allerton", 
            "cell_type": "markdown", 
            "metadata": {}
        }, 
        {
            "execution_count": null, 
            "cell_type": "code", 
            "metadata": {}, 
            "outputs": [], 
            "source": "templist = ny_grouped.loc[ny_grouped['Neighborhood'] == 'Allerton'].T.squeeze() # Create a Series from Panda Data Frame\ntemplist = templist[1:] # Get rid of Neighborhood, only focus on number values\ntemplist = templist.sort_values(ascending=False)\ntemplist = templist[templist>0].index.values\nfor i in range(10-len(templist)):\n    templist = np.append(templist, '')\ntemplist"
        }, 
        {
            "source": "### Apply K_Means Clustering", 
            "cell_type": "markdown", 
            "metadata": {}
        }, 
        {
            "execution_count": null, 
            "cell_type": "code", 
            "metadata": {}, 
            "outputs": [], 
            "source": "# set number of clusters\nkclusters = 5\n\nny_grouped_clustering = ny_grouped.drop('Neighborhood', 1)\n\n# run k-means clustering\nkmeans = KMeans(n_clusters=kclusters, random_state=0).fit(ny_grouped_clustering)\n\n# check cluster labels generated for each row in the dataframe\nkmeans.labels_[0:10] "
        }, 
        {
            "execution_count": null, 
            "cell_type": "code", 
            "metadata": {}, 
            "outputs": [], 
            "source": "# Make ny_df have the same neighborhood as ny_grouped['Neighborhood']\nny_df = ny_data.copy()[ny_data['Neighborhood'].isin(ny_grouped['Neighborhood'])]\n# Because there is some duplicates in neighborhoods and be dropped before, so it also has to be dropped in her\nny_df.drop_duplicates(['Neighborhood'], inplace=True)\nny_df.head()"
        }, 
        {
            "execution_count": null, 
            "cell_type": "code", 
            "metadata": {}, 
            "outputs": [], 
            "source": "ny_merge = ny_df\n\n# add clustering labels\nny_merge['Cluster Labels'] = kmeans.labels_\n\nny_merge = ny_merge.join(neighborhoods_res_sorted.set_index('Neighborhood'), on='Neighborhood')"
        }, 
        {
            "execution_count": null, 
            "cell_type": "code", 
            "metadata": {}, 
            "outputs": [], 
            "source": "ny_merge.reset_index(inplace=True, drop=True)\nny_merge.head()"
        }, 
        {
            "source": "## Examine Clusters\u00b6", 
            "cell_type": "markdown", 
            "metadata": {}
        }, 
        {
            "source": "### We will use Word Cloud to find out cluster name for each cluster\n", 
            "cell_type": "markdown", 
            "metadata": {}
        }, 
        {
            "execution_count": null, 
            "cell_type": "code", 
            "metadata": {}, 
            "outputs": [], 
            "source": "def get_clus_name(clus):\n    places = ''\n    for i in range(len(clus)):\n        for place in clus.iloc[i].values.tolist():\n            places += place.replace(' ', '') + ' '\n    \n    # Get top most restaurants in the neighborhood\n    my_df = pd.DataFrame(places.split(' '))\n    my_df.columns = ['Restaurant Type']\n    result_list = my_df[my_df['Restaurant Type'] != '']['Restaurant Type'].value_counts()[0:3].index.values.tolist()\n\n    return result_list"
        }, 
        {
            "source": "#### Test with Cluster 1", 
            "cell_type": "markdown", 
            "metadata": {}
        }, 
        {
            "execution_count": null, 
            "cell_type": "code", 
            "metadata": {}, 
            "outputs": [], 
            "source": "ny_merge.columns[list(range(5, ny_merge.shape[1]))]"
        }, 
        {
            "execution_count": null, 
            "cell_type": "code", 
            "metadata": {}, 
            "outputs": [], 
            "source": "clus = ny_merge.loc[ny_merge['Cluster Labels'] == 0, ny_merge.columns[list(range(5, ny_merge.shape[1]))]]\nplaces = ''\nfor i in range(len(clus)):\n    for place in clus.iloc[i].values.tolist():\n        places += place.replace(' ', '') + ' '\n\nmy_df = pd.DataFrame(places.split(' '))\nmy_df.columns = ['Restaurant Type']\nmy_df[my_df['Restaurant Type'] != '']['Restaurant Type'].value_counts()"
        }, 
        {
            "source": "### Get all clusters' names\n", 
            "cell_type": "markdown", 
            "metadata": {}
        }, 
        {
            "execution_count": null, 
            "cell_type": "code", 
            "metadata": {}, 
            "outputs": [], 
            "source": "clus_names = []\n\n# kcluster is number of cluters\n\nfor i in range(kclusters):\n    clus = ny_merge.loc[ny_merge['Cluster Labels'] == i, ny_merge.columns[list(range(5, ny_merge.shape[1]))]]\n    clus_names.append(get_clus_name(clus))\n\nclus_names"
        }, 
        {
            "execution_count": null, 
            "cell_type": "code", 
            "metadata": {}, 
            "outputs": [], 
            "source": "# Matplotlib and associated plotting modules\nimport matplotlib.cm as cm\nimport matplotlib.colors as colors\n\naddress = 'New York City, NY'\n\ngeolocator = Nominatim()\nlocation = geolocator.geocode(address)\nlatitude = location.latitude\nlongitude = location.longitude\n\n# create map\nmap_clusters = folium.Map(location=[latitude, longitude], zoom_start=10)\n\n# set color scheme for the clusters\nx = np.arange(kclusters)\nys = [i+x+(i*x)**2 for i in range(kclusters)]\ncolors_array = cm.rainbow(np.linspace(0, 1, len(ys)))\nrainbow = [colors.rgb2hex(i) for i in colors_array]\n\n# add markers to the map\nmarkers_colors = []\nfor lat, lon, poi, cluster in zip(ny_merge['Latitude'], ny_merge['Longitude'], ny_merge['Neighborhood'], ny_merge['Cluster Labels']):\n    label = folium.Popup('Neighbourhood: ' + str(poi) + '. Trending restaurant: ' + str(clus_names[cluster-1]), parse_html=True)\n    folium.CircleMarker(\n        [lat, lon],\n        radius=5,\n        popup=label,\n        color=rainbow[cluster-1],\n        fill=True,\n        fill_color=rainbow[cluster-1],\n        fill_opacity=0.7).add_to(map_clusters)\n       \nmap_clusters"
        }, 
        {
            "execution_count": null, 
            "cell_type": "code", 
            "metadata": {}, 
            "outputs": [], 
            "source": ""
        }
    ], 
    "metadata": {
        "kernelspec": {
            "display_name": "Python 3.5", 
            "name": "python3", 
            "language": "python"
        }, 
        "language_info": {
            "mimetype": "text/x-python", 
            "nbconvert_exporter": "python", 
            "version": "3.5.5", 
            "name": "python", 
            "file_extension": ".py", 
            "pygments_lexer": "ipython3", 
            "codemirror_mode": {
                "version": 3, 
                "name": "ipython"
            }
        }
    }, 
    "nbformat": 4
}